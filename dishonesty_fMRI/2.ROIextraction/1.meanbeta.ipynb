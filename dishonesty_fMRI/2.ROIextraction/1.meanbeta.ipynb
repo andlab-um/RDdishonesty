{
 "cells": [
  {
   "cell_type": "code",
   "execution_count": 1,
   "metadata": {},
   "outputs": [
    {
     "name": "stderr",
     "output_type": "stream",
     "text": [
      "/home/haiyanwu/miniconda3/lib/python3.9/site-packages/nilearn/datasets/__init__.py:93: FutureWarning: Fetchers from the nilearn.datasets module will be updated in version 0.9 to return python strings instead of bytes and Pandas dataframes instead of Numpy arrays.\n",
      "  warn(\"Fetchers from the nilearn.datasets module will be \"\n"
     ]
    }
   ],
   "source": [
    "from __future__ import division\n",
    "import shutil as sh\n",
    "from os.path import join \n",
    "from glob import glob\n",
    "import itertools\n",
    "from distutils.dir_util import copy_tree\n",
    "import shutil as shutil\n",
    "from glob import glob\n",
    "import pandas as pd\n",
    "\n",
    "import numpy as np\n",
    "from subprocess import check_call\n",
    "import matplotlib.pyplot as plt\n",
    "#from utilities import ensure_dir, get_n_vols\n",
    "from pylab import plot, ylim, xlim, show, xlabel, ylabel, grid\n",
    "from numpy import linspace, loadtxt, ones, convolve\n",
    "from nipype.interfaces.dcm2nii import Dcm2niix, Dcm2nii\n",
    "#import nipype_init_new\n",
    "#nipype_init_new.init()\n",
    "from nilearn.connectome import sym_matrix_to_vec, vec_to_sym_matrix,ConnectivityMeasure\n",
    "from nilearn.plotting import plot_stat_map, plot_anat, plot_img, view_img, plot_matrix, plot_glass_brain\n",
    "from nilearn.image import concat_imgs, mean_img, load_img, index_img, math_img, resample_img\n",
    "from nilearn.masking import apply_mask\n",
    "from nilearn.plotting import plot_stat_map, plot_anat, plot_img, view_img\n",
    "from nilearn import plotting\n",
    "from statsmodels.sandbox.stats.multicomp import multipletests as multi\n",
    "from scipy.stats import norm\n",
    "import statsmodels.stats.multitest as ssm\n",
    "import statsmodels\n",
    "import seaborn as sns\n",
    "from scipy.stats import pearsonr,ttest_ind\n",
    "from sklearn.model_selection import StratifiedKFold,permutation_test_score\n",
    "from sklearn.svm import SVC\n",
    "from sklearn.model_selection import LeaveOneOut\n",
    "from sklearn.svm import SVR\n",
    "import time"
   ]
  },
  {
   "cell_type": "code",
   "execution_count": 2,
   "metadata": {},
   "outputs": [],
   "source": [
    "# migrate functions in nistats to nilearn\n",
    "# https://nilearn.github.io/nistats_migration.html#design-matrix\n",
    "from nilearn.glm.first_level import FirstLevelModel\n",
    "#from nistats.thresholding import map_threshold # can not be migrate directly\n",
    "from nilearn.glm import threshold_stats_img\n",
    "from nilearn.reporting import get_clusters_table\n",
    "from nilearn.plotting import plot_contrast_matrix, plot_design_matrix\n",
    "from nilearn.glm.first_level import make_first_level_design_matrix\n",
    "from nilearn.glm.second_level import SecondLevelModel\n",
    "from nltools.data import Brain_Data"
   ]
  },
  {
   "cell_type": "code",
   "execution_count": 3,
   "metadata": {},
   "outputs": [],
   "source": [
    "import warnings\n",
    "warnings.filterwarnings(\"ignore\")"
   ]
  },
  {
   "cell_type": "code",
   "execution_count": 4,
   "metadata": {},
   "outputs": [],
   "source": [
    "def ensure_dir(path):\n",
    "    d = os.path.dirname(path)\n",
    "    if not os.path.exists(d):\n",
    "        os.makedirs(d)\n"
   ]
  },
  {
   "cell_type": "code",
   "execution_count": 5,
   "metadata": {},
   "outputs": [],
   "source": [
    "topdir=\"/media/haiyanwu/HDD2/fmri2019/\"\n",
    "\n",
    "roi_dir=topdir+'3.ROIextraction/'\n",
    "mask_dir=roi_dir+'masks/'\n",
    "\n"
   ]
  },
  {
   "cell_type": "markdown",
   "metadata": {},
   "source": [
    "## ROI extraction: using neurosynth masks"
   ]
  },
  {
   "cell_type": "code",
   "execution_count": 6,
   "metadata": {},
   "outputs": [
    {
     "data": {
      "text/plain": [
       "27"
      ]
     },
     "execution_count": 6,
     "metadata": {},
     "output_type": "execute_result"
    }
   ],
   "source": [
    "ROIs=['ANG','BA6-SMA','BA8-preSMA','BA9-dlPFC','BA13-insula','BA24-dACC','BA28-hip1','BA34-hip','BA35-hip2','cc_z5','cc_z10',\n",
    "      'reward_z10','reward_z5','rewant_z10','rewant_z5','moral_z10','moral_z5','monrew_z10','monrew_z5','memory_z10','memory_z5',\n",
    "     'maintenance_z10','maintenance_z5','lDLPFC','rDLPFC','ventral_striatum','putamen']\n",
    "len(ROIs)\n"
   ]
  },
  {
   "cell_type": "code",
   "execution_count": 7,
   "metadata": {},
   "outputs": [
    {
     "data": {
      "text/plain": [
       "26"
      ]
     },
     "execution_count": 7,
     "metadata": {},
     "output_type": "execute_result"
    }
   ],
   "source": [
    "subList=[102,103,105,107,108,110,111,112,113,114,115,116,117,118,119,120,121,122,123,125,127,128,129,130,131,132]\n",
    "len(subList)"
   ]
  },
  {
   "cell_type": "code",
   "execution_count": 12,
   "metadata": {},
   "outputs": [],
   "source": [
    "# extract from GLM1 : contrast1-9\n",
    "glm_dir=topdir+'2.GLM/3.GLM_SPM/results/GLM1/'\n",
    "writer = pd.ExcelWriter('ROIbeta_GLM1.xlsx', engine='xlsxwriter')\n",
    "for indroi, roi in enumerate(ROIs):\n",
    "    mask=Brain_Data(mask_dir+'Mask_%s.nii'%(roi))\n",
    "    betas=[]\n",
    "    for indsub, subno in enumerate(subList):\n",
    " \n",
    "        subbeta=[]\n",
    "        for runind,runno in enumerate([1,2,3,4,5,6,7,8,9,10,11,12]):\n",
    "            \n",
    "            temp=Brain_Data(glm_dir+'sub-%03d/con_%04d.nii'%(subno,runno))\n",
    "            masked=temp.apply_mask(mask)\n",
    "            subbeta.append(masked.mean())\n",
    "        betas.append(subbeta)\n",
    "    betas=pd.DataFrame(betas,index=subList)\n",
    "    betas.to_excel(writer, index=subList,header=[1, 2, 3, 4, 5, 6, 7, 8, 9,10,11,12], sheet_name='%s' % roi, startcol=1)\n",
    "           \n",
    "writer.save()      "
   ]
  },
  {
   "cell_type": "code",
   "execution_count": 8,
   "metadata": {},
   "outputs": [],
   "source": [
    "# extract from GLM2 : contrast1-9\n",
    "glm_dir=topdir+'2.GLM/3.GLM_SPM/results/GLM2/'\n",
    "writer = pd.ExcelWriter('ROIbeta_GLM2.xlsx', engine='xlsxwriter')\n",
    "for indroi, roi in enumerate(ROIs):\n",
    "    mask=Brain_Data(mask_dir+'Mask_%s.nii'%(roi))\n",
    "    betas=[]\n",
    "    for indsub, subno in enumerate(subList):\n",
    " \n",
    "        subbeta=[]\n",
    "        for runind,runno in enumerate([1,2,3,4,5,6,7,8,9,10,11,12]):\n",
    "            \n",
    "            temp=Brain_Data(glm_dir+'sub-%03d/con_%04d.nii'%(subno,runno))\n",
    "            masked=temp.apply_mask(mask)\n",
    "            subbeta.append(masked.mean())\n",
    "        betas.append(subbeta)\n",
    "    betas=pd.DataFrame(betas,index=subList)\n",
    "    betas.to_excel(writer, index=subList,header=[1, 2, 3, 4, 5, 6, 7, 8, 9,10,11,12], sheet_name='%s' % roi, startcol=1)\n",
    "           \n",
    "writer.save()      "
   ]
  },
  {
   "cell_type": "code",
   "execution_count": null,
   "metadata": {},
   "outputs": [],
   "source": []
  }
 ],
 "metadata": {
  "kernelspec": {
   "display_name": "Python 3.9.12 ('fMRI')",
   "language": "python",
   "name": "python3"
  },
  "language_info": {
   "codemirror_mode": {
    "name": "ipython",
    "version": 3
   },
   "file_extension": ".py",
   "mimetype": "text/x-python",
   "name": "python",
   "nbconvert_exporter": "python",
   "pygments_lexer": "ipython3",
   "version": "3.9.5"
  },
  "vscode": {
   "interpreter": {
    "hash": "3566720a2af2275bcfdb8140de8dfb806c1ce8c6b15262d5c68946f54da6026c"
   }
  }
 },
 "nbformat": 4,
 "nbformat_minor": 4
}
