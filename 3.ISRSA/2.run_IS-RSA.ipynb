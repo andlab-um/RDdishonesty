{
 "cells": [
  {
   "cell_type": "code",
   "execution_count": 1,
   "metadata": {},
   "outputs": [
    {
     "name": "stderr",
     "output_type": "stream",
     "text": [
      "/Users/orlacamus/opt/anaconda3/envs/fMRI/lib/python3.9/site-packages/nilearn/experimental/__init__.py:10: UserWarning: \n",
      "\n",
      "\n",
      "All features in the nilearn.experimental module are experimental and subject to change. They are included in the nilearn package to gather early feedback from users about prototypes of new features. Changes may break backwards compatibility without prior notice or a deprecation cycle. Moreover, some features may be incomplete or may have been tested less thoroughly than the rest of the library.\n",
      "\n",
      "\n",
      "  warnings.warn(\n"
     ]
    }
   ],
   "source": [
    "%matplotlib inline\n",
    "import os, sys, glob, scipy, warnings\n",
    "import scipy.stats as ss\n",
    "from scipy.stats import pearsonr,spearmanr\n",
    "from scipy.spatial.distance import squareform\n",
    "import matplotlib, scipy\n",
    "import numpy as np\n",
    "import pandas as pd\n",
    "warnings.filterwarnings(\"ignore\", message=\"numpy.dtype size changed\")\n",
    "import matplotlib.pyplot as plt\n",
    "import seaborn as sns\n",
    "from nltools.data import Brain_Data, Adjacency\n",
    "from nltools.stats import one_sample_permutation, two_sample_permutation, correlation_permutation\n",
    "from nltools.stats import threshold\n",
    "from nltools.mask import expand_mask, collapse_mask\n",
    "from sklearn.metrics import pairwise_distances\n",
    "from sklearn.metrics.pairwise import cosine_similarity"
   ]
  },
  {
   "cell_type": "code",
   "execution_count": 11,
   "metadata": {},
   "outputs": [],
   "source": [
    "base_dir=\"/home/haiyanwu/nas_data/experiment_data/RDonly240615/\"\n",
    "glm_dir=base_dir+'1.GLM/results/GLM1_spm_unsmooth/'\n",
    "rsa_dir=base_dir+'5.ISRSA/'\n",
    "roi_dir=base_dir+'3.ROIextraction/'\n",
    "mask_dir=roi_dir+'masks/'"
   ]
  },
  {
   "cell_type": "code",
   "execution_count": 12,
   "metadata": {},
   "outputs": [],
   "source": [
    "subList=[104,105,106,108,109,110,111,112,113,114,115,117,118,119,120,121,122,123,124,125,126,127,128,130,131,132,133,134,135,136,137,138,139,140]"
   ]
  },
  {
   "cell_type": "code",
   "execution_count": 13,
   "metadata": {},
   "outputs": [],
   "source": [
    "def ensure_dir(path):\n",
    "    d = os.path.dirname(path)\n",
    "    if not os.path.exists(d):\n",
    "        os.makedirs(d)"
   ]
  },
  {
   "cell_type": "code",
   "execution_count": 14,
   "metadata": {},
   "outputs": [],
   "source": [
    "# Fixed variables\n",
    "metric_brain = 'correlation'\n",
    "metric_model = 'euclidean'\n",
    "permutation_method = 'vector'\n",
    "n_permute = 10000\n",
    "nparcel = 200\n",
    "parcels = range(nparcel)\n",
    "subNums=subList\n",
    "subIndices=np.where(pd.DataFrame(subList).isin(subNums))[0]\n",
    "\n"
   ]
  },
  {
   "cell_type": "code",
   "execution_count": 15,
   "metadata": {},
   "outputs": [],
   "source": [
    "behavDists=pd.read_csv(rsa_dir+'RD_ddmparams.csv',index_col=0)\n",
    "modelDists=scipy.spatial.distance.pdist(behavDists.loc[:,['v_former_diff','v_diff']],metric=metric_model)\n"
   ]
  },
  {
   "cell_type": "code",
   "execution_count": 16,
   "metadata": {},
   "outputs": [],
   "source": [
    "#!!!\n",
    "results_dir=rsa_dir+'ISRSAresults/'\n",
    "ensure_dir(results_dir)\n",
    "brain_dir=base_dir+'5.ISRSA/BrainDist/'"
   ]
  },
  {
   "cell_type": "code",
   "execution_count": 2,
   "metadata": {},
   "outputs": [
    {
     "data": {
      "text/plain": [
       "4"
      ]
     },
     "execution_count": 2,
     "metadata": {},
     "output_type": "execute_result"
    }
   ],
   "source": [
    "ROIs=['BA8-preSMA','BA9-dlPFC','lTPJ','ACC']\n",
    "len(ROIs)"
   ]
  },
  {
   "cell_type": "code",
   "execution_count": 29,
   "metadata": {},
   "outputs": [
    {
     "name": "stdout",
     "output_type": "stream",
     "text": [
      "0\n",
      "1\n",
      "2\n",
      "3\n",
      "4\n",
      "5\n",
      "6\n",
      "7\n",
      "8\n",
      "9\n",
      "10\n",
      "11\n",
      "12\n",
      "13\n",
      "14\n",
      "15\n",
      "16\n",
      "17\n",
      "18\n",
      "19\n",
      "20\n",
      "21\n",
      "22\n",
      "23\n",
      "24\n",
      "25\n",
      "26\n",
      "27\n",
      "28\n",
      "29\n",
      "30\n",
      "31\n",
      "32\n",
      "33\n",
      "34\n",
      "35\n",
      "36\n",
      "37\n",
      "38\n",
      "39\n",
      "40\n",
      "41\n"
     ]
    }
   ],
   "source": [
    "\n",
    "\n",
    "pathCur = os.path.join(results_dir,'IS-RSA_ROI_perm-%s/'%(permutation_method))#!!!!\n",
    "ensure_dir(pathCur)\n",
    "# Brain Data\n",
    "BrainDist = pd.read_csv(os.path.join(brain_dir,'BrainDist_%s.csv' %(metric_brain)))\n",
    "\n",
    "for parcel,name in enumerate(ROIs):\n",
    "    print(parcel)\n",
    "    brainDist = BrainDist.iloc[:,parcel] \n",
    "    brainDist_mat = pd.DataFrame(scipy.spatial.distance.squareform(brainDist)).iloc[subIndices,subIndices]\n",
    "    brainDist_vec = brainDist_mat.values[np.triu_indices(len(subIndices),k=1)] \n",
    "\n",
    "    # Operations\n",
    "    corr = spearmanr(modelDists,brainDist_vec)[0]\n",
    "    if n_permute is None:\n",
    "        pval = spearmanr(modelDists,brainDist_vec)[1]\n",
    "    elif isinstance(n_permute, int):\n",
    "        perm = []\n",
    "        if permutation_method == 'vector':\n",
    "            for p in range(n_permute):\n",
    "                perm.append(spearmanr(np.random.permutation(modelDists),brainDist_vec)[0])\n",
    "        if corr>=0:\n",
    "            perm_p = np.mean(perm>=corr)\n",
    "        else:\n",
    "            perm_p = np.mean(perm<=corr)\n",
    "        pval = perm_p\n",
    "    out = pd.DataFrame([[corr,pval]],columns=['r','p']) # one row one parcel\n",
    "    out.to_csv(os.path.join(pathCur,'parcel%03d.csv'%(parcel)))\n",
    "    pd.DataFrame(perm,columns=['permutation']).to_csv(os.path.join(pathCur,'perm_parcel%03d.csv'%(parcel)))\n",
    "    #~1.5min\n"
   ]
  }
 ],
 "metadata": {
  "kernelspec": {
   "display_name": "Python 3.9.12 ('fMRI')",
   "language": "python",
   "name": "python3"
  },
  "language_info": {
   "codemirror_mode": {
    "name": "ipython",
    "version": 3
   },
   "file_extension": ".py",
   "mimetype": "text/x-python",
   "name": "python",
   "nbconvert_exporter": "python",
   "pygments_lexer": "ipython3",
   "version": "3.9.16"
  },
  "vscode": {
   "interpreter": {
    "hash": "3566720a2af2275bcfdb8140de8dfb806c1ce8c6b15262d5c68946f54da6026c"
   }
  }
 },
 "nbformat": 4,
 "nbformat_minor": 4
}
