{
 "cells": [
  {
   "cell_type": "markdown",
   "metadata": {},
   "source": [
    "# Collect & plot results of parallellized ISRSA"
   ]
  },
  {
   "cell_type": "code",
   "execution_count": 10,
   "metadata": {
    "ExecuteTime": {
     "end_time": "2016-12-17T01:31:15.511474",
     "start_time": "2016-12-17T01:31:13.978301"
    },
    "scrolled": true
   },
   "outputs": [],
   "source": [
    "import warnings, os, sys, glob, matplotlib, scipy\n",
    "warnings.filterwarnings(\"ignore\", message=\"numpy.dtype size changed\")\n",
    "matplotlib.rcParams['pdf.fonttype'] = 42 #To make text readable by Illustrator\n",
    "import numpy as np\n",
    "import pandas as pd\n",
    "from matplotlib import pyplot as plt\n",
    "import seaborn as sns\n",
    "from nltools.data import Brain_Data, Adjacency\n",
    "from nltools.mask import expand_mask, collapse_mask\n",
    "from nltools.stats import threshold, fdr"
   ]
  },
  {
   "cell_type": "code",
   "execution_count": 11,
   "metadata": {},
   "outputs": [],
   "source": [
    "def ensure_dir(path):\n",
    "    d = os.path.dirname(path)\n",
    "    if not os.path.exists(d):\n",
    "        os.makedirs(d)"
   ]
  },
  {
   "cell_type": "code",
   "execution_count": 12,
   "metadata": {},
   "outputs": [],
   "source": [
    "base_dir=\"/home/haiyanwu/nas_data/experiment_data/RDonly240615/\"\n",
    "glm_dir=base_dir+'1.GLM/results/GLM1_spm_unsmooth/'\n",
    "rsa_dir=base_dir+'5.ISRSA/'\n",
    "roi_dir=base_dir+'3.ROIextraction/'\n",
    "mask_dir=roi_dir+'masks/'"
   ]
  },
  {
   "cell_type": "code",
   "execution_count": 13,
   "metadata": {},
   "outputs": [],
   "source": [
    "\n",
    "subList=[104,105,106,108,109,110,111,112,113,114,115,117,118,119,120,121,122,123,124,125,126,127,128,130,131,132,133,134,135,136,137,138,139,140]"
   ]
  },
  {
   "cell_type": "markdown",
   "metadata": {},
   "source": [
    "## Load parcellation"
   ]
  },
  {
   "cell_type": "code",
   "execution_count": 14,
   "metadata": {
    "ExecuteTime": {
     "end_time": "2016-12-17T01:31:23.274605",
     "start_time": "2016-12-17T01:31:21.255501"
    }
   },
   "outputs": [],
   "source": [
    "nparcel = 200\n",
    "#roi = Brain_Data('https://neurovault.org/media/images/2099/Neurosynth%20Parcellation_2.nii.gz')\n",
    "roi = Brain_Data(os.path.join(base_dir,'5.ISRSA/Neurosynth_Parcellation_2.nii.gz'))\n",
    "#roi.plot()\n",
    "roi_x = expand_mask(roi)"
   ]
  },
  {
   "cell_type": "markdown",
   "metadata": {},
   "source": [
    "## Collect results"
   ]
  },
  {
   "cell_type": "code",
   "execution_count": 23,
   "metadata": {},
   "outputs": [],
   "source": [
    "# Fixed variables\n",
    "metric_brain = 'correlation'\n",
    "permutation_method = 'vector'\n",
    "n_permute = 10000\n",
    "nparcel = 200\n",
    "parcels = range(nparcel)\n",
    "subNums=subList\n",
    "subIndices=np.where(pd.DataFrame(subList).isin(subNums))[0]\n",
    "\n"
   ]
  },
  {
   "cell_type": "code",
   "execution_count": 1,
   "metadata": {},
   "outputs": [
    {
     "data": {
      "text/plain": [
       "4"
      ]
     },
     "execution_count": 1,
     "metadata": {},
     "output_type": "execute_result"
    }
   ],
   "source": [
    "ROIs=['BA8-preSMA','BA9-dlPFC','lTPJ','ACC']\n",
    "len(ROIs)"
   ]
  },
  {
   "cell_type": "code",
   "execution_count": 21,
   "metadata": {},
   "outputs": [],
   "source": [
    "results_dir=base_dir+'5.ISRSA/ISRSAresults/'\n",
    "ensure_dir(results_dir)"
   ]
  },
  {
   "cell_type": "code",
   "execution_count": 25,
   "metadata": {},
   "outputs": [
    {
     "name": "stdout",
     "output_type": "stream",
     "text": [
      "lTPJ--r=0.0871266947413064/p=0.0183\n",
      "BA32-prACC--r=0.0771588156453134/p=0.0345\n",
      "ACC--r=0.0949192423653382/p=0.0127\n",
      "BA29-RSC1--r=0.0888085224384156/p=0.0165\n",
      "BA45-IFG--r=0.1213905102642804/p=0.0017\n"
     ]
    }
   ],
   "source": [
    "# Calculate the activation of each parcel\n",
    "\n",
    "\n",
    "results_allparcels = pd.DataFrame()\n",
    "for parcel,name in enumerate(ROIs):\n",
    "    parcelDat = pd.read_csv(os.path.join(results_dir,\n",
    "        'IS-RSA_ROI_perm-%s/parcel%03d.csv'%(\n",
    "        permutation_method,parcel)),index_col=0)\n",
    "    results_allparcels = results_allparcels.append(parcelDat,ignore_index=True)\n",
    "    if parcelDat.p[0]<0.05:\n",
    "        print(name+'--r='+str(parcelDat.r[0])+'/p='+str(parcelDat.p[0]))\n",
    "\n",
    "    \n",
    "results_allparcels.to_csv(os.path.join(results_dir,'IS-RSA_ROI_perm-%s/'%(permutation_method),'allparcels.csv'))\n",
    "\n",
    "\n",
    "\n"
   ]
  }
 ],
 "metadata": {
  "anaconda-cloud": {},
  "kernelspec": {
   "display_name": "Python 3.9.12 ('fMRI')",
   "language": "python",
   "name": "python3"
  },
  "language_info": {
   "codemirror_mode": {
    "name": "ipython",
    "version": 3
   },
   "file_extension": ".py",
   "mimetype": "text/x-python",
   "name": "python",
   "nbconvert_exporter": "python",
   "pygments_lexer": "ipython3",
   "version": "3.9.16"
  },
  "vscode": {
   "interpreter": {
    "hash": "3566720a2af2275bcfdb8140de8dfb806c1ce8c6b15262d5c68946f54da6026c"
   }
  }
 },
 "nbformat": 4,
 "nbformat_minor": 1
}
